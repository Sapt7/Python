{
  "nbformat": 4,
  "nbformat_minor": 0,
  "metadata": {
    "colab": {
      "name": "WebScraping.ipynb",
      "provenance": [],
      "collapsed_sections": [],
      "authorship_tag": "ABX9TyPgW3+Bjp6S7dMDliQAcjDd",
      "include_colab_link": true
    },
    "kernelspec": {
      "name": "python3",
      "display_name": "Python 3"
    }
  },
  "cells": [
    {
      "cell_type": "markdown",
      "metadata": {
        "id": "view-in-github",
        "colab_type": "text"
      },
      "source": [
        "<a href=\"https://colab.research.google.com/github/Sapt7/Python/blob/master/WebScraping.ipynb\" target=\"_parent\"><img src=\"https://colab.research.google.com/assets/colab-badge.svg\" alt=\"Open In Colab\"/></a>"
      ]
    },
    {
      "cell_type": "code",
      "metadata": {
        "id": "F2CpBqCFQ0Ue",
        "colab_type": "code",
        "colab": {}
      },
      "source": [
        "import requests\n",
        "URL = 'https://www.ndtv.com/weather'\n",
        "page = requests.get(URL)"
      ],
      "execution_count": 0,
      "outputs": []
    },
    {
      "cell_type": "code",
      "metadata": {
        "id": "xBq0Mv3VTO9J",
        "colab_type": "code",
        "colab": {}
      },
      "source": [
        "print (page.text)"
      ],
      "execution_count": 0,
      "outputs": []
    },
    {
      "cell_type": "code",
      "metadata": {
        "id": "_YY0eCX4VL_h",
        "colab_type": "code",
        "colab": {}
      },
      "source": [
        "# to download the html in text format \n",
        "io=open(\"input.txt\",\"w\")\n",
        "io.write(page.text)\n",
        "io.close()\n",
        "from google.colab import files\n",
        "files.download(\"input.txt\")"
      ],
      "execution_count": 0,
      "outputs": []
    },
    {
      "cell_type": "code",
      "metadata": {
        "id": "PDLH1rUlVgLi",
        "colab_type": "code",
        "colab": {}
      },
      "source": [
        "from bs4 import BeautifulSoup\n",
        "soup = BeautifulSoup(page.content,'html.parser')\n",
        "r=soup.find_all(valign = \"top\")\n",
        "for out in r:\n",
        " j=out.find('b') \n",
        " k=out.find('br')\n",
        " if None in (j,k):\n",
        "  continue\n",
        " print(j)\n",
        "#  print(k)"
      ],
      "execution_count": 0,
      "outputs": []
    },
    {
      "cell_type": "code",
      "metadata": {
        "id": "nD0N1jGc6tz1",
        "colab_type": "code",
        "colab": {}
      },
      "source": [
        ""
      ],
      "execution_count": 0,
      "outputs": []
    }
  ]
}